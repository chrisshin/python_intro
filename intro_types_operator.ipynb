{
 "cells": [
  {
   "cell_type": "code",
   "execution_count": null,
   "metadata": {
    "collapsed": true
   },
   "outputs": [],
   "source": [
    "#%pylab inline"
   ]
  },
  {
   "cell_type": "markdown",
   "metadata": {},
   "source": [
    "<font color=green>\n",
    "# Introduction "
   ]
  },
  {
   "cell_type": "markdown",
   "metadata": {},
   "source": [
    "## 1. What is Python?"
   ]
  },
  {
   "cell_type": "markdown",
   "metadata": {},
   "source": [
    "<font size=4>\n",
    "<font color=blue>\n",
    "(1) **Python** is a general purpose programming language\n",
    "<font color=black>\n",
    "-  Functional programming\n",
    ">- Programs decompose a problem into a set of functions \n",
    ">- Functions only take inputs and produce outputs\n",
    ">- No internal states that affect the outputs\n",
    "-  Procedural programming\n",
    ">- Programs are list of instructions that tell the computer what to do with input\n",
    ">- Programs describe the problem to be solved and the implementation figures out how to perform the computation efficiently\n",
    "- Object-Oriented programming\n",
    ">- Programs manipulate collections of objects\n",
    ">- Objects have internal state and support methods that query or modify this internal state in some way."
   ]
  },
  {
   "cell_type": "markdown",
   "metadata": {},
   "source": [
    "<font size=4>\n",
    "<font color=blue> \n",
    "(2) **Python** is useful\n",
    "<font color=black>\n",
    "- Readable\n",
    "- Shorter code"
   ]
  },
  {
   "cell_type": "markdown",
   "metadata": {},
   "source": [
    "<font size=4>\n",
    "<font color=blue>\n",
    "(3) Philosophy\n",
    "\n",
    "<font color=black>\n",
    "- **KISS**"
   ]
  },
  {
   "cell_type": "code",
   "execution_count": null,
   "metadata": {
    "collapsed": true
   },
   "outputs": [],
   "source": [
    "import this"
   ]
  },
  {
   "cell_type": "markdown",
   "metadata": {},
   "source": [
    "## 2. How it works?"
   ]
  },
  {
   "cell_type": "markdown",
   "metadata": {},
   "source": [
    "<font size=4>\n",
    "<font color=blue>\n",
    "(1) Interpreted vs. Compiled\n",
    "<font color=black>\n",
    "1) Compilation\n",
    "- Convert a program written in a high level language (readable) into a binary machine code (instructions for an CPU)\n",
    "- Languages like C and C++ compile statements in the source code all the way down to binary machine code\n",
    "\n",
    "2) Interpretation\n",
    "- Convert a protram written in a high level language into a byte code\n",
    "- Interpret the byte code line by line \n",
    "- Default interpreter is CPython\n",
    "\n",
    "3) More information \n",
    "- [compilation vs. interpretation](https://youtu.be/JNMy969SjyU)"
   ]
  },
  {
   "cell_type": "markdown",
   "metadata": {},
   "source": [
    "<font size=4>\n",
    "<font color=blue>\n",
    "(2) Standard implementation\n",
    "\n",
    "<font color=black>\n",
    "\n",
    "1) Python\n",
    "<br><br>\n",
    "- Python is an interpreted language\n",
    "- Python first compiles (translate) statements in the source code (*.py) to an intermediate format, byte code (*.pyc)\n",
    "- Python then interprets the byte code (*.pyc)"
   ]
  },
  {
   "cell_type": "code",
   "execution_count": 2,
   "metadata": {},
   "outputs": [],
   "source": [
    "# Default implementation\n",
    "#import platform\n",
    "#platform.python_implementation()"
   ]
  },
  {
   "cell_type": "markdown",
   "metadata": {},
   "source": [
    "## 3. IDLE"
   ]
  },
  {
   "cell_type": "markdown",
   "metadata": {},
   "source": [
    "<font size=4>\n",
    "<font color=blue>\n",
    "(1) What is IDLE\n",
    "\n",
    "<font color=black>\n",
    "- Integrated development environment\n",
    "- Integrated development and learning environment\n",
    "\n",
    "<font color=blue>\n",
    "(2) Features\n",
    "\n",
    "<font color=black>\n",
    "- Text editor with syntax highlight\n",
    "- Interpreter\n",
    ">- Execute line by line\n",
    ">- Debug line by line\n",
    "- [ReadMe](https://github.com/jupyter/notebook/blob/master/README.md)\n",
    "\n",
    "<font color=blue>\n",
    "(3) More information on [jupyter notebook](http://jupyter.org/) "
   ]
  },
  {
   "cell_type": "code",
   "execution_count": null,
   "metadata": {
    "collapsed": true
   },
   "outputs": [],
   "source": [
    "#help(\"modules\")"
   ]
  },
  {
   "cell_type": "markdown",
   "metadata": {},
   "source": [
    "<font color=green>\n",
    "# Types and Operators"
   ]
  },
  {
   "cell_type": "markdown",
   "metadata": {},
   "source": [
    "## Objectives\n",
    "- ### Participants can indentify 5 data types -- Numbers, Strings, Lists, Dictionaries, and Tuples (50 mins)\n",
    "- ### Particiants can create variables associated with each data type (10 mins)\n",
    "- ### Participants can identify and utilize operators and methods associated with each data type (2 hours)\n",
    ">- ### Arithmatic operations and some basic methods \n",
    "- ### Participants can write and read external files that store data used as inputs or generated by the code (30 mins)"
   ]
  },
  {
   "cell_type": "markdown",
   "metadata": {},
   "source": [
    "## 1. Variable"
   ]
  },
  {
   "cell_type": "markdown",
   "metadata": {},
   "source": [
    "<font size=4>\n",
    "<font color=blue>\n",
    "(1) **Variable** is a place to store the references to the object stored in memory"
   ]
  },
  {
   "cell_type": "code",
   "execution_count": null,
   "metadata": {
    "collapsed": true
   },
   "outputs": [],
   "source": [
    "# Example\n",
    "a=3\n",
    "print('a is', a)"
   ]
  },
  {
   "cell_type": "markdown",
   "metadata": {},
   "source": [
    "<img src=\"figures/var_creation.png\">"
   ]
  },
  {
   "cell_type": "markdown",
   "metadata": {},
   "source": [
    "<font size=4>\n",
    "<font color=blue>\n",
    "(2) Properties\n",
    "<font color=black>\n",
    "- Must start with letter or underscore(_)\n",
    "- Contain letters, digits, underscores\n",
    "- Any length\n",
    "- No need to define type\n",
    "- No <font color=red>**KEYWORD**"
   ]
  },
  {
   "cell_type": "markdown",
   "metadata": {},
   "source": [
    "<img src=\"figures/keywords.png\">"
   ]
  },
  {
   "cell_type": "code",
   "execution_count": null,
   "metadata": {
    "collapsed": true
   },
   "outputs": [],
   "source": [
    "import keyword"
   ]
  },
  {
   "cell_type": "code",
   "execution_count": null,
   "metadata": {
    "collapsed": true
   },
   "outputs": [],
   "source": [
    "print(keyword.kwlist)"
   ]
  },
  {
   "cell_type": "code",
   "execution_count": null,
   "metadata": {
    "collapsed": true
   },
   "outputs": [],
   "source": [
    "print(*keyword.kwlist, sep=\"\\n\") # * unpacking operator; * for lists and ** for dictionaires"
   ]
  },
  {
   "cell_type": "code",
   "execution_count": null,
   "metadata": {
    "collapsed": true
   },
   "outputs": [],
   "source": [
    "# Examples\n",
    "x=100     # integer\n",
    "y=10.5    # float\n",
    "z=\"FDA\"   # string"
   ]
  },
  {
   "cell_type": "code",
   "execution_count": null,
   "metadata": {
    "collapsed": true
   },
   "outputs": [],
   "source": [
    "print('******')\n",
    "print('x is', x)\n",
    "print('******')\n",
    "print('y is', y)\n",
    "print('******')\n",
    "print('z is', z)"
   ]
  },
  {
   "cell_type": "markdown",
   "metadata": {},
   "source": [
    "<font size=4>\n",
    "<font color=blue>\n",
    "(3) Simultaneous assignments\n",
    "<font color=black>\n",
    "- var1=var2=val1\n",
    "- var1, var2, var3 = val1, val2, val3"
   ]
  },
  {
   "cell_type": "code",
   "execution_count": null,
   "metadata": {
    "collapsed": true
   },
   "outputs": [],
   "source": [
    "# Examples\n",
    "s=w=v=100 # assign one value to multiple variables\n",
    "z,q=200,300 "
   ]
  },
  {
   "cell_type": "code",
   "execution_count": null,
   "metadata": {
    "collapsed": true
   },
   "outputs": [],
   "source": [
    "print('s, w and v are',s,',', w,', and', v)"
   ]
  },
  {
   "cell_type": "code",
   "execution_count": null,
   "metadata": {
    "collapsed": true
   },
   "outputs": [],
   "source": [
    "print('z and q are', z, 'and', q)"
   ]
  },
  {
   "cell_type": "markdown",
   "metadata": {},
   "source": [
    "## 2. Data Types"
   ]
  },
  {
   "cell_type": "markdown",
   "metadata": {},
   "source": [
    "<font size=4>\n",
    "<font color=blue>\n",
    "(1) Numbers\n",
    "<br>\n",
    "<font color=black>\n",
    "1) Definition\n",
    "- Number data types store numeric values: integer, float, and complex\n",
    "- Immutable\n",
    "\n",
    "2) Variable creation"
   ]
  },
  {
   "cell_type": "code",
   "execution_count": 1,
   "metadata": {
    "collapsed": true
   },
   "outputs": [],
   "source": [
    "# Integer\n",
    "i=100\n",
    "ii=int(100)"
   ]
  },
  {
   "cell_type": "code",
   "execution_count": 2,
   "metadata": {},
   "outputs": [
    {
     "name": "stdout",
     "output_type": "stream",
     "text": [
      "i and ii are 100 and 100\n"
     ]
    }
   ],
   "source": [
    "print('i and ii are', i, 'and', ii)"
   ]
  },
  {
   "cell_type": "code",
   "execution_count": null,
   "metadata": {
    "collapsed": true
   },
   "outputs": [],
   "source": [
    "# Float\n",
    "j=7.3\n",
    "jj=float(7.3)"
   ]
  },
  {
   "cell_type": "code",
   "execution_count": null,
   "metadata": {
    "collapsed": true
   },
   "outputs": [],
   "source": [
    "print('j and jj are', j, 'and', jj)"
   ]
  },
  {
   "cell_type": "code",
   "execution_count": null,
   "metadata": {
    "collapsed": true
   },
   "outputs": [],
   "source": [
    "# Complex\n",
    "h=2-3j # complex; 2 is real while 3j is imaginary\n",
    "hh=complex(2,-3)\n",
    "hhh=complex('2-3j')"
   ]
  },
  {
   "cell_type": "code",
   "execution_count": null,
   "metadata": {
    "collapsed": true
   },
   "outputs": [],
   "source": [
    "print('h, hh and hhh are', h, hh, 'and', hhh)"
   ]
  },
  {
   "cell_type": "markdown",
   "metadata": {},
   "source": [
    "<font size=4>\n",
    "3) Operators"
   ]
  },
  {
   "cell_type": "markdown",
   "metadata": {},
   "source": [
    "<img src=\"figures/num_op_0.jpg\">"
   ]
  },
  {
   "cell_type": "markdown",
   "metadata": {},
   "source": [
    "<img src=\"figures/num_op_1.jpg\">"
   ]
  },
  {
   "cell_type": "markdown",
   "metadata": {},
   "source": [
    "<font size=4>\n",
    "4) Commonly used methods and modules\n",
    "- pow, abs, round, ...\n",
    "- random, math, decimal, ..."
   ]
  },
  {
   "cell_type": "code",
   "execution_count": null,
   "metadata": {
    "collapsed": true
   },
   "outputs": [],
   "source": [
    "# Example\n",
    "print('pow(4,2) = ', pow(4,2)) # return 4^2\n",
    "print('abs(-3.4) = ', abs(-3.4)) # return absolute value of -3.4\n",
    "print('round(4.5) = ', round(4.5)) # return the closest integer"
   ]
  },
  {
   "cell_type": "code",
   "execution_count": null,
   "metadata": {
    "collapsed": true
   },
   "outputs": [],
   "source": [
    "# Example\n",
    "import random\n",
    "print('generate a random number between 0 and 1', random.random())\n",
    "import math\n",
    "print('square root of 16 is ', math.sqrt(16))"
   ]
  },
  {
   "cell_type": "markdown",
   "metadata": {},
   "source": [
    "<font size=4>\n",
    "5) More information\n",
    "- See [4.4](https://docs.python.org/3/library/stdtypes.html)"
   ]
  },
  {
   "cell_type": "markdown",
   "metadata": {},
   "source": [
    "<font size=4>\n",
    "Quiz\n",
    "1. what is 2+3*4?\n",
    "<br>\n",
    "<br>\n",
    "2. what is 2+(3*4)?\n",
    "<br>\n",
    "<br>\n",
    "3. what is (2+3)*4?"
   ]
  },
  {
   "cell_type": "code",
   "execution_count": null,
   "metadata": {
    "collapsed": true
   },
   "outputs": [],
   "source": [
    "#print('2+3*4', 2+3*4)"
   ]
  },
  {
   "cell_type": "code",
   "execution_count": null,
   "metadata": {
    "collapsed": true
   },
   "outputs": [],
   "source": [
    "#print('2+(3*4) =',2+(3*4))"
   ]
  },
  {
   "cell_type": "code",
   "execution_count": null,
   "metadata": {
    "collapsed": true
   },
   "outputs": [],
   "source": [
    "#print('(2+3)*4 =', (2+3)*4)"
   ]
  },
  {
   "cell_type": "markdown",
   "metadata": {},
   "source": [
    "<font size=4>\n",
    "Quiz\n",
    "1. what is 5/3/4?\n",
    "<br>\n",
    "<br>\n",
    "2. what is (5/3)/4?\n",
    "<br>\n",
    "<br>\n",
    "3. what is 5/(3/4)?"
   ]
  },
  {
   "cell_type": "code",
   "execution_count": null,
   "metadata": {
    "collapsed": true
   },
   "outputs": [],
   "source": [
    "#print('5/3/4=', 5/3/4)"
   ]
  },
  {
   "cell_type": "code",
   "execution_count": null,
   "metadata": {
    "collapsed": true
   },
   "outputs": [],
   "source": [
    "#print('(5/3)/4=', (5/3)/4)"
   ]
  },
  {
   "cell_type": "code",
   "execution_count": null,
   "metadata": {
    "collapsed": true
   },
   "outputs": [],
   "source": [
    "#print('5/(3/4)=', 5/(3/4))"
   ]
  },
  {
   "cell_type": "markdown",
   "metadata": {},
   "source": [
    "<font size=4>\n",
    "<font color=blue>\n",
    "(2) Strings\n",
    "<font color=black>\n",
    "1) Definition\n",
    "- Strings are contiguous series of characters\n",
    ">- They have a left-to-right positional order \n",
    "- Immutable sequences"
   ]
  },
  {
   "cell_type": "markdown",
   "metadata": {},
   "source": [
    "<font size=4>\n",
    "2) Variable creation\n"
   ]
  },
  {
   "cell_type": "code",
   "execution_count": null,
   "metadata": {
    "collapsed": true
   },
   "outputs": [],
   "source": [
    "# Example 1\n",
    "my_name='Chris' # single or double quote\n",
    "print('my name is', my_name)"
   ]
  },
  {
   "cell_type": "code",
   "execution_count": null,
   "metadata": {
    "collapsed": true
   },
   "outputs": [],
   "source": [
    "# Example 2\n",
    "your_name=str('Kristi')\n",
    "print('your name is', your_name)"
   ]
  },
  {
   "cell_type": "code",
   "execution_count": null,
   "metadata": {
    "collapsed": true
   },
   "outputs": [],
   "source": [
    "# Example 3\n",
    "str1=\"Chris'\"\n",
    "str2='Chris\"'\n",
    "print(str1, str2, sep='\\n')"
   ]
  },
  {
   "cell_type": "markdown",
   "metadata": {
    "collapsed": true
   },
   "source": [
    "<font size=4>\n",
    "3) Operators\n",
    "- stsr[i] (index)\n",
    "- str[i:j] (slice)\n",
    "- string formulating expression\n",
    ">- \"str1 %s str2\" % str3 \n",
    ">- \"str1 {s} str2\".format(str)\n",
    "- \\+ (concatenation)\n",
    "- \\* (repeatition)"
   ]
  },
  {
   "cell_type": "code",
   "execution_count": null,
   "metadata": {
    "collapsed": true
   },
   "outputs": [],
   "source": [
    "# Example\n",
    "print('my_name is,', my_name)\n",
    "print('third character is, ', my_name[2])"
   ]
  },
  {
   "cell_type": "code",
   "execution_count": null,
   "metadata": {
    "collapsed": true
   },
   "outputs": [],
   "source": [
    "print(my_name[0:4])"
   ]
  },
  {
   "cell_type": "code",
   "execution_count": 6,
   "metadata": {},
   "outputs": [
    {
     "data": {
      "text/plain": [
       "'There are seven people'"
      ]
     },
     "execution_count": 6,
     "metadata": {},
     "output_type": "execute_result"
    }
   ],
   "source": [
    "\"There are %s people\" %\"seven\""
   ]
  },
  {
   "cell_type": "code",
   "execution_count": 12,
   "metadata": {},
   "outputs": [
    {
     "data": {
      "text/plain": [
       "'There are 7 people'"
      ]
     },
     "execution_count": 12,
     "metadata": {},
     "output_type": "execute_result"
    }
   ],
   "source": [
    "\"There are %i people\" %7"
   ]
  },
  {
   "cell_type": "code",
   "execution_count": 11,
   "metadata": {},
   "outputs": [
    {
     "data": {
      "text/plain": [
       "'There are two people'"
      ]
     },
     "execution_count": 11,
     "metadata": {},
     "output_type": "execute_result"
    }
   ],
   "source": [
    "\"There are {} people\".format(\"two\")"
   ]
  },
  {
   "cell_type": "code",
   "execution_count": 13,
   "metadata": {},
   "outputs": [
    {
     "data": {
      "text/plain": [
       "'There are 2 people'"
      ]
     },
     "execution_count": 13,
     "metadata": {},
     "output_type": "execute_result"
    }
   ],
   "source": [
    "\"There are {} people\".format(2)"
   ]
  },
  {
   "cell_type": "code",
   "execution_count": null,
   "metadata": {
    "collapsed": true
   },
   "outputs": [],
   "source": [
    "# Example\n",
    "our_name=my_name + your_name\n",
    "print ('out_name is, ', our_name)"
   ]
  },
  {
   "cell_type": "code",
   "execution_count": null,
   "metadata": {
    "collapsed": true
   },
   "outputs": [],
   "source": [
    "# Example\n",
    "our_name=my_name + ' and ' + your_name\n",
    "print ('out name is, ', our_name)"
   ]
  },
  {
   "cell_type": "code",
   "execution_count": null,
   "metadata": {
    "collapsed": true
   },
   "outputs": [],
   "source": [
    "# Example\n",
    "st=' and '\n",
    "new_st=st.join([my_name, your_name])\n",
    "print(new_st)"
   ]
  },
  {
   "cell_type": "code",
   "execution_count": null,
   "metadata": {
    "collapsed": true
   },
   "outputs": [],
   "source": [
    "# Example\n",
    "print(' and '.join([my_name, your_name]))"
   ]
  },
  {
   "cell_type": "code",
   "execution_count": null,
   "metadata": {
    "collapsed": true
   },
   "outputs": [],
   "source": [
    "# Example\n",
    "mul_line_str='my name \\n is \\n Chris.'\n",
    "print(mul_line_str)"
   ]
  },
  {
   "cell_type": "code",
   "execution_count": null,
   "metadata": {
    "collapsed": true
   },
   "outputs": [],
   "source": [
    "# Example\n",
    "new_name=my_name * 3 ## or my_name *=3\n",
    "print(new_name)"
   ]
  },
  {
   "cell_type": "markdown",
   "metadata": {},
   "source": [
    "<font size=4>\n",
    "4) Methods"
   ]
  },
  {
   "cell_type": "code",
   "execution_count": null,
   "metadata": {
    "collapsed": true
   },
   "outputs": [],
   "source": [
    "# Help\n",
    "str.split?"
   ]
  },
  {
   "cell_type": "code",
   "execution_count": null,
   "metadata": {
    "collapsed": true
   },
   "outputs": [],
   "source": [
    "words=\"This is random text we're going to split apart\"\n",
    "print(words.split())"
   ]
  },
  {
   "cell_type": "code",
   "execution_count": null,
   "metadata": {
    "collapsed": true
   },
   "outputs": [],
   "source": [
    "# Example\n",
    "list(new_name)"
   ]
  },
  {
   "cell_type": "code",
   "execution_count": null,
   "metadata": {
    "collapsed": true
   },
   "outputs": [],
   "source": [
    "# Help\n",
    "str.find?"
   ]
  },
  {
   "cell_type": "code",
   "execution_count": null,
   "metadata": {
    "collapsed": true,
    "scrolled": true
   },
   "outputs": [],
   "source": [
    "words.find('is')"
   ]
  },
  {
   "cell_type": "code",
   "execution_count": null,
   "metadata": {
    "collapsed": true
   },
   "outputs": [],
   "source": [
    "print(words[words.find('is')])"
   ]
  },
  {
   "cell_type": "code",
   "execution_count": null,
   "metadata": {
    "collapsed": true
   },
   "outputs": [],
   "source": [
    "# Help\n",
    "str.replace?"
   ]
  },
  {
   "cell_type": "code",
   "execution_count": null,
   "metadata": {
    "collapsed": true,
    "scrolled": true
   },
   "outputs": [],
   "source": [
    "words.replace('is', 'IS')"
   ]
  },
  {
   "cell_type": "code",
   "execution_count": null,
   "metadata": {
    "collapsed": true
   },
   "outputs": [],
   "source": [
    "#Help\n",
    "str.count?"
   ]
  },
  {
   "cell_type": "code",
   "execution_count": null,
   "metadata": {
    "collapsed": true
   },
   "outputs": [],
   "source": [
    "# Example\n",
    "words.count('is')"
   ]
  },
  {
   "cell_type": "markdown",
   "metadata": {},
   "source": [
    "<font size=4>\n",
    "5) More information\n",
    "- See [4.7](https://docs.python.org/3/library/stdtypes.html)"
   ]
  },
  {
   "cell_type": "markdown",
   "metadata": {},
   "source": [
    "<font size=4>\n",
    "Quiz\n",
    "1. Can you use **find** method to search in a list?\n",
    "<br>\n",
    "<br>\n",
    "2. Can you use **slice** expression on a list?\n",
    "<br>\n",
    "<br>\n",
    "3. Given a string, \"FDA, CTP, OS, Statistics\" name two ways to extract \"CTP\".\n",
    "<br>\n",
    "<br>\n",
    "4. Can you change a string? FDPCTP --> FDA"
   ]
  },
  {
   "cell_type": "code",
   "execution_count": null,
   "metadata": {
    "collapsed": true
   },
   "outputs": [],
   "source": [
    "'''\n",
    "qstr3='FDA, CTP, OS, Statistics'\n",
    "print(qstr3[5:8])\n",
    "qstr3_list=qstr3.split(',')\n",
    "print(qstr3_list[1])\n",
    "'''"
   ]
  },
  {
   "cell_type": "code",
   "execution_count": null,
   "metadata": {
    "collapsed": true
   },
   "outputs": [],
   "source": [
    "'''\n",
    "qstr4='FDACTP'\n",
    "print(id(qstr4))\n",
    "qstr4='CTP'\n",
    "print(id(qstr4))\n",
    "'''"
   ]
  },
  {
   "cell_type": "markdown",
   "metadata": {
    "collapsed": true
   },
   "source": [
    "<font size=4>\n",
    "<font color=blue>\n",
    "(3) Lists\n",
    "<font color=black>\n",
    "1) Definition\n",
    "- Ordered collections of arbitrary objects\n",
    "- Nestable (can create a matrix)\n",
    "- Mutable sequence"
   ]
  },
  {
   "cell_type": "markdown",
   "metadata": {},
   "source": [
    "<font size=4>\n",
    "2) Variable creation"
   ]
  },
  {
   "cell_type": "code",
   "execution_count": null,
   "metadata": {
    "collapsed": true
   },
   "outputs": [],
   "source": [
    "# Example\n",
    "list1=[]\n",
    "print('list1 is', list1)\n",
    "\n",
    "list2=[4, 6, 10]\n",
    "print('list2 is', list2)\n",
    "\n",
    "list3=['FDA', 'CTP']\n",
    "print('list3 is', list3)\n",
    "\n",
    "list4=list(['foo', 'bar'])\n",
    "print('list4 is', list4)"
   ]
  },
  {
   "cell_type": "markdown",
   "metadata": {},
   "source": [
    "<font size=4>\n",
    "3) Operators\n",
    "- x in s (true if x is in sequence s)\n",
    "- x not in s (true if x is not in sequence s)\n",
    "- s1 + s2 (concatenates two sequences s1 and s2)\n",
    "- s \\* n or n \\* s (n copies of sequence s concaternated)\n",
    "- s[i] (ith element in sequence s)\n",
    "- s\\[i:j](elements from index i to index j-1)\n",
    "- len(s) (length of sequence s)\n",
    "- min(s) (minimum value)\n",
    "- max(s) (maximum value)\n",
    "- sum(s) (sum of all numbers in sequence s)\n"
   ]
  },
  {
   "cell_type": "code",
   "execution_count": null,
   "metadata": {
    "collapsed": true,
    "scrolled": true
   },
   "outputs": [],
   "source": [
    "# Example\n",
    "print('CTP' in list3)\n",
    "print(list1+list2)\n",
    "print('The last element of list2 is', list2[-1])\n",
    "print('The length of list4 is', len(list4))"
   ]
  },
  {
   "cell_type": "markdown",
   "metadata": {},
   "source": [
    "<font size=4>\n",
    "4) Commonly used methods\n",
    "- append()\n",
    "- extend()\n",
    "- count()\n",
    "- index()\n",
    "- insert()\n",
    "- remove()\n",
    "- reverse()\n",
    "- sort()\n",
    "- pop()\n",
    "- del"
   ]
  },
  {
   "cell_type": "code",
   "execution_count": 6,
   "metadata": {
    "collapsed": true
   },
   "outputs": [],
   "source": [
    "# Example\n",
    "list1=[1,2,2,3,3,3,4,4,4,4,5,5,5,5,5]\n",
    "list2=['FDA','CTP', 'DPHS']"
   ]
  },
  {
   "cell_type": "code",
   "execution_count": null,
   "metadata": {
    "collapsed": true
   },
   "outputs": [],
   "source": [
    "# help\n",
    "list.append?"
   ]
  },
  {
   "cell_type": "code",
   "execution_count": 7,
   "metadata": {},
   "outputs": [
    {
     "name": "stdout",
     "output_type": "stream",
     "text": [
      "[1, 2, 2, 3, 3, 3, 4, 4, 4, 4, 5, 5, 5, 5, 5, ['FDA', 'CTP', 'DPHS']]\n"
     ]
    }
   ],
   "source": [
    "# Example\n",
    "list1.append(list2)\n",
    "print(list1)"
   ]
  },
  {
   "cell_type": "code",
   "execution_count": null,
   "metadata": {
    "collapsed": true
   },
   "outputs": [],
   "source": [
    "# help\n",
    "list.count?"
   ]
  },
  {
   "cell_type": "code",
   "execution_count": null,
   "metadata": {
    "collapsed": true
   },
   "outputs": [],
   "source": [
    "# Example\n",
    "list1.count(4)"
   ]
  },
  {
   "cell_type": "code",
   "execution_count": null,
   "metadata": {
    "collapsed": true
   },
   "outputs": [],
   "source": [
    "# help\n",
    "list.extend?"
   ]
  },
  {
   "cell_type": "code",
   "execution_count": null,
   "metadata": {
    "collapsed": true
   },
   "outputs": [],
   "source": [
    "# Example\n",
    "list1.extend(list2) # list1 + list2\n",
    "print(list1)"
   ]
  },
  {
   "cell_type": "code",
   "execution_count": null,
   "metadata": {
    "collapsed": true
   },
   "outputs": [],
   "source": [
    "# help\n",
    "list.index?"
   ]
  },
  {
   "cell_type": "code",
   "execution_count": null,
   "metadata": {
    "collapsed": true
   },
   "outputs": [],
   "source": [
    "# Example\n",
    "print(list1.index(4))"
   ]
  },
  {
   "cell_type": "code",
   "execution_count": null,
   "metadata": {
    "collapsed": true
   },
   "outputs": [],
   "source": [
    "# What if you want to know all occurences of an element?\n",
    "[idx for idx, val in enumerate(list1) if val==4]"
   ]
  },
  {
   "cell_type": "code",
   "execution_count": null,
   "metadata": {
    "collapsed": true
   },
   "outputs": [],
   "source": [
    "enumerate?"
   ]
  },
  {
   "cell_type": "code",
   "execution_count": null,
   "metadata": {
    "collapsed": true
   },
   "outputs": [],
   "source": [
    "# help\n",
    "list.insert?"
   ]
  },
  {
   "cell_type": "code",
   "execution_count": null,
   "metadata": {
    "collapsed": true
   },
   "outputs": [],
   "source": [
    "# Example\n",
    "list1.insert(0,6)\n",
    "print(list1)"
   ]
  },
  {
   "cell_type": "code",
   "execution_count": null,
   "metadata": {
    "collapsed": true
   },
   "outputs": [],
   "source": [
    "# help\n",
    "list.remove?"
   ]
  },
  {
   "cell_type": "code",
   "execution_count": null,
   "metadata": {
    "collapsed": true
   },
   "outputs": [],
   "source": [
    "# Example\n",
    "list1.remove(6)"
   ]
  },
  {
   "cell_type": "code",
   "execution_count": null,
   "metadata": {
    "collapsed": true
   },
   "outputs": [],
   "source": [
    "# What if you want to remove all occurance of an element?\n",
    "[val for val in list1 if val!=4]"
   ]
  },
  {
   "cell_type": "code",
   "execution_count": null,
   "metadata": {
    "collapsed": true
   },
   "outputs": [],
   "source": [
    "# help\n",
    "list.reverse?"
   ]
  },
  {
   "cell_type": "code",
   "execution_count": null,
   "metadata": {
    "collapsed": true
   },
   "outputs": [],
   "source": [
    "# Example\n",
    "list1.reverse()\n",
    "print(list1)"
   ]
  },
  {
   "cell_type": "code",
   "execution_count": null,
   "metadata": {
    "collapsed": true
   },
   "outputs": [],
   "source": [
    "# help\n",
    "list.sort?"
   ]
  },
  {
   "cell_type": "code",
   "execution_count": null,
   "metadata": {
    "collapsed": true
   },
   "outputs": [],
   "source": [
    "# Example\n",
    "list1=[1,2,2,3,3,3,4,4,4,4,5,5,5,5,5]\n",
    "list1.sort()\n",
    "print(list1)"
   ]
  },
  {
   "cell_type": "code",
   "execution_count": null,
   "metadata": {
    "collapsed": true
   },
   "outputs": [],
   "source": [
    "# Example\n",
    "list1.sort(reverse=True)\n",
    "print(list1)"
   ]
  },
  {
   "cell_type": "code",
   "execution_count": null,
   "metadata": {
    "collapsed": true
   },
   "outputs": [],
   "source": [
    "# help\n",
    "list.pop?"
   ]
  },
  {
   "cell_type": "code",
   "execution_count": null,
   "metadata": {
    "collapsed": true
   },
   "outputs": [],
   "source": [
    "# Example\n",
    "list1.pop(4)"
   ]
  },
  {
   "cell_type": "code",
   "execution_count": null,
   "metadata": {
    "collapsed": true
   },
   "outputs": [],
   "source": [
    "# help \n",
    "del?"
   ]
  },
  {
   "cell_type": "code",
   "execution_count": null,
   "metadata": {
    "collapsed": true
   },
   "outputs": [],
   "source": [
    "# example\n",
    "del list1[3]"
   ]
  },
  {
   "cell_type": "markdown",
   "metadata": {},
   "source": [
    "<font size=4>\n",
    "5) More information\n",
    "- See [4.6](https://docs.python.org/3/library/stdtypes.html)"
   ]
  },
  {
   "cell_type": "markdown",
   "metadata": {},
   "source": [
    "<font size=4>\n",
    "Quiz\n",
    "\n",
    "1. What are two ways of constructing a list of 5 zeros?\n",
    "\n",
    "2. What are two ways of constructing a list containing 4 twos.\n",
    "\n",
    "3. What are two ways of combining above two lists?\n",
    "\n",
    "1. list1 \\* 3 vs [list1] * 3?"
   ]
  },
  {
   "cell_type": "code",
   "execution_count": null,
   "metadata": {
    "collapsed": true
   },
   "outputs": [],
   "source": [
    "'''\n",
    "qlist1=[0,0,0,0,0]\n",
    "qlist2=[2]*4\n",
    "qlist3=qlist1+qlist2\n",
    "print(qlist1, qlist2, qlist3, sep='\\n')\n",
    "'''"
   ]
  },
  {
   "cell_type": "markdown",
   "metadata": {},
   "source": [
    "<font size=4>\n",
    "<font color=blue>\n",
    "(4) Dictionaries\n",
    "\n",
    "<font color=black>\n",
    "1) Definition\n",
    "- Unordered collections that store key value pairs\n",
    "- Flexible(mutable)\n",
    "- Nestable\n",
    "- Accessed by key not offset position"
   ]
  },
  {
   "cell_type": "markdown",
   "metadata": {},
   "source": [
    "<font size=4>\n",
    "2) Variable creation"
   ]
  },
  {
   "cell_type": "code",
   "execution_count": null,
   "metadata": {
    "collapsed": true
   },
   "outputs": [],
   "source": [
    "emp1={'name':\"Chris\", 'age':21, 'office':'OS', 'branch':'Statistics'}\n",
    "emp2=dict(name='Chris', age=21, office='OS', branch='Statistics')\n",
    "emp3=dict([('name', 'Chris'),('age',21),('office', 'OS'), ('branch', 'Statistics')])"
   ]
  },
  {
   "cell_type": "code",
   "execution_count": null,
   "metadata": {
    "collapsed": true,
    "scrolled": true
   },
   "outputs": [],
   "source": [
    "print(emp1)\n",
    "print(emp2)\n",
    "print(emp3)"
   ]
  },
  {
   "cell_type": "code",
   "execution_count": null,
   "metadata": {
    "collapsed": true
   },
   "outputs": [],
   "source": [
    "keys, values=list(emp1.keys()), list(emp1.values())\n",
    "emp4=dict(zip(keys, values))\n",
    "print(emp4)"
   ]
  },
  {
   "cell_type": "markdown",
   "metadata": {},
   "source": [
    "<font size=4>\n",
    "3) Operators\n",
    "- dict[key] (returns value assigned to the key)\n",
    "- len(dict)\n",
    "- dict[key]=new value (assign new value)\n",
    "- dict[new_key]=dict.pop(old_key)"
   ]
  },
  {
   "cell_type": "code",
   "execution_count": null,
   "metadata": {
    "collapsed": true
   },
   "outputs": [],
   "source": [
    "# Example\n",
    "print('employee name is', emp1['name'])"
   ]
  },
  {
   "cell_type": "code",
   "execution_count": null,
   "metadata": {
    "collapsed": true
   },
   "outputs": [],
   "source": [
    "# Example\n",
    "emp1['age']=22\n",
    "print(emp1['age'])"
   ]
  },
  {
   "cell_type": "code",
   "execution_count": null,
   "metadata": {
    "collapsed": true
   },
   "outputs": [],
   "source": [
    "# Example\n",
    "emp1['OFFICE']=emp1.pop('office')\n",
    "print(emp1.keys())"
   ]
  },
  {
   "cell_type": "markdown",
   "metadata": {},
   "source": [
    "<font size=4>\n",
    "4) Commonly used methods\n",
    "- dic.keys() (return all keys)\n",
    "- dic.values() (return all values)\n",
    "- dic.items() (return all key value pair tuples)"
   ]
  },
  {
   "cell_type": "code",
   "execution_count": null,
   "metadata": {
    "collapsed": true
   },
   "outputs": [],
   "source": [
    "# Example\n",
    "print(emp1.keys())\n",
    "print(emp1.values())\n",
    "print(emp1.items())"
   ]
  },
  {
   "cell_type": "markdown",
   "metadata": {},
   "source": [
    "<font size=4>\n",
    "5) More information\n",
    "- See [4.10](https://docs.python.org/3/library/stdtypes.html)"
   ]
  },
  {
   "cell_type": "markdown",
   "metadata": {},
   "source": [
    "<font size=4>\n",
    "<font color=blue>\n",
    "(5) Tuples\n",
    "<font color=black>\n",
    "1) Definition\n",
    "- Ordered collections of arbitrary objects\n",
    "- Accessed by offset\n",
    "- Immutable sequence\n",
    "- Nestable\n",
    "\n",
    "2) Variable creation"
   ]
  },
  {
   "cell_type": "code",
   "execution_count": null,
   "metadata": {
    "collapsed": true
   },
   "outputs": [],
   "source": [
    "# Example\n",
    "tup1=(1,2,3)\n",
    "print(tup1)\n",
    "\n",
    "tup2=tuple([1,2,3,4])\n",
    "print(tup2)\n",
    "\n",
    "tup3=1,2,3,4\n",
    "print(tup3)"
   ]
  },
  {
   "cell_type": "markdown",
   "metadata": {},
   "source": [
    "<font size=4>\n",
    "3) Operators\n",
    "- x in tup\n",
    "- x not in tup\n",
    "- max()\n",
    "- min()\n",
    "- sum()\n",
    "- len()\n",
    "- tup[i:j]"
   ]
  },
  {
   "cell_type": "code",
   "execution_count": null,
   "metadata": {
    "collapsed": true
   },
   "outputs": [],
   "source": [
    "# Create a tuple, T\n",
    "T = (1, 2, 3, 2, 4, 2)"
   ]
  },
  {
   "cell_type": "code",
   "execution_count": null,
   "metadata": {
    "collapsed": true
   },
   "outputs": [],
   "source": [
    "print('maximum value in T is', max(T))"
   ]
  },
  {
   "cell_type": "code",
   "execution_count": null,
   "metadata": {
    "collapsed": true
   },
   "outputs": [],
   "source": [
    "print('minimum value in T is', min(T))"
   ]
  },
  {
   "cell_type": "code",
   "execution_count": null,
   "metadata": {
    "collapsed": true
   },
   "outputs": [],
   "source": [
    "print('sum of all elements in T is', sum(T))"
   ]
  },
  {
   "cell_type": "code",
   "execution_count": null,
   "metadata": {
    "collapsed": true
   },
   "outputs": [],
   "source": [
    "print('length of T is ', len(T))"
   ]
  },
  {
   "cell_type": "markdown",
   "metadata": {},
   "source": [
    "<font size=4>\n",
    "4) Commonly used methods\n",
    "- tup.index()\n",
    "- tup.count()"
   ]
  },
  {
   "cell_type": "code",
   "execution_count": null,
   "metadata": {
    "collapsed": true
   },
   "outputs": [],
   "source": [
    "# Help\n",
    "tuple.index?"
   ]
  },
  {
   "cell_type": "code",
   "execution_count": null,
   "metadata": {
    "collapsed": true
   },
   "outputs": [],
   "source": [
    "# Example\n",
    "print(T.index(2,4)) # return the index of the first appearance of 2 after offset 4"
   ]
  },
  {
   "cell_type": "code",
   "execution_count": null,
   "metadata": {
    "collapsed": true
   },
   "outputs": [],
   "source": [
    "# Help\n",
    "tuple.count?"
   ]
  },
  {
   "cell_type": "code",
   "execution_count": null,
   "metadata": {
    "collapsed": true
   },
   "outputs": [],
   "source": [
    "print(T.count(2))"
   ]
  },
  {
   "cell_type": "markdown",
   "metadata": {},
   "source": [
    "<font size=4>\n",
    "5) More information\n",
    "- See [4.6](https://docs.python.org/3/library/stdtypes.html)"
   ]
  },
  {
   "cell_type": "markdown",
   "metadata": {
    "collapsed": true
   },
   "source": [
    "## 3. Shared reference"
   ]
  },
  {
   "cell_type": "markdown",
   "metadata": {},
   "source": [
    "<img src=\"figures/ref_shared.png\">"
   ]
  },
  {
   "cell_type": "code",
   "execution_count": null,
   "metadata": {
    "collapsed": true
   },
   "outputs": [],
   "source": [
    "# Example - immutable\n",
    "a=3\n",
    "b=a\n",
    "a+=2\n",
    "print(a, b)"
   ]
  },
  {
   "cell_type": "code",
   "execution_count": null,
   "metadata": {
    "collapsed": true
   },
   "outputs": [],
   "source": [
    "# Example - mutable\n",
    "a=[1,2,3,4]\n",
    "b=a\n",
    "a.append(5)\n",
    "print(a, b)"
   ]
  },
  {
   "cell_type": "code",
   "execution_count": null,
   "metadata": {
    "collapsed": true
   },
   "outputs": [],
   "source": [
    "##type(i)"
   ]
  },
  {
   "cell_type": "markdown",
   "metadata": {
    "collapsed": true
   },
   "source": [
    "## 4. Files"
   ]
  },
  {
   "cell_type": "markdown",
   "metadata": {},
   "source": [
    "<font size=4>\n",
    "<font color=blue>\n",
    "(1) Using files\n",
    "<font color=black>\n",
    "1) How to\n",
    "- data=open(filename, mode)\n",
    "<br>\n",
    "\n",
    "2) Mode\n",
    "- 'r' for reading\n",
    "- 'w' for writing\n",
    "- 'a' for appending"
   ]
  },
  {
   "cell_type": "markdown",
   "metadata": {},
   "source": [
    "<img src=\"figures/file.png\">"
   ]
  },
  {
   "cell_type": "markdown",
   "metadata": {},
   "source": [
    "<font size=4>\n",
    "3) Note\n",
    "- Content is strings \n",
    "- Fiels are iternable\n",
    "- Files are buffered\n",
    "- Close is optional but good habit"
   ]
  },
  {
   "cell_type": "code",
   "execution_count": null,
   "metadata": {
    "collapsed": true
   },
   "outputs": [],
   "source": [
    "# Example\n",
    "myfile=open('test\\myfile.txt', 'wt') # create myfile.txt if not exist; open otherwise"
   ]
  },
  {
   "cell_type": "code",
   "execution_count": null,
   "metadata": {
    "collapsed": true
   },
   "outputs": [],
   "source": [
    "# write a line of text\n",
    "myfile.write('hello text file\\n')"
   ]
  },
  {
   "cell_type": "code",
   "execution_count": null,
   "metadata": {
    "collapsed": true
   },
   "outputs": [],
   "source": [
    "# write a line of text\n",
    "myfile.write('goodbye text file\\n')"
   ]
  },
  {
   "cell_type": "code",
   "execution_count": null,
   "metadata": {
    "collapsed": true
   },
   "outputs": [],
   "source": [
    "# write a line of text\n",
    "myfile.write('[1,2,3]')"
   ]
  },
  {
   "cell_type": "code",
   "execution_count": null,
   "metadata": {
    "collapsed": true
   },
   "outputs": [],
   "source": [
    "myfile.close()"
   ]
  },
  {
   "cell_type": "code",
   "execution_count": null,
   "metadata": {
    "collapsed": true
   },
   "outputs": [],
   "source": [
    "# open myfile\n",
    "myfile=open('test\\myfile.txt', 'r')"
   ]
  },
  {
   "cell_type": "code",
   "execution_count": null,
   "metadata": {
    "collapsed": true
   },
   "outputs": [],
   "source": [
    "# read texts in myfile line by line\n",
    "myfile.readline()"
   ]
  },
  {
   "cell_type": "code",
   "execution_count": null,
   "metadata": {
    "collapsed": true
   },
   "outputs": [],
   "source": [
    "for line in open('test\\myfile.txt', 'r'):\n",
    "    print(line)\n",
    "    #print(type(line))"
   ]
  },
  {
   "cell_type": "code",
   "execution_count": null,
   "metadata": {
    "collapsed": true
   },
   "outputs": [],
   "source": [
    "#myfile.readlines()"
   ]
  },
  {
   "cell_type": "markdown",
   "metadata": {},
   "source": [
    "<font size=4>\n",
    "<font color=blue>\n",
    "(2) pickle\n",
    "<br>\n",
    "<font color=k>\n",
    "1) Definition\n",
    "- pickle module allows to store native Python objects directly "
   ]
  },
  {
   "cell_type": "code",
   "execution_count": null,
   "metadata": {
    "collapsed": true
   },
   "outputs": [],
   "source": [
    "import pickle"
   ]
  },
  {
   "cell_type": "code",
   "execution_count": null,
   "metadata": {
    "collapsed": true
   },
   "outputs": [],
   "source": [
    "# Example\n",
    "data={'a':1, 'b':2}\n",
    "file=open('test\\db.pkl', 'wb')\n",
    "pickle.dump(data,file)\n",
    "file.close()"
   ]
  },
  {
   "cell_type": "code",
   "execution_count": null,
   "metadata": {
    "collapsed": true
   },
   "outputs": [],
   "source": [
    "# import\n",
    "file=open('test\\db.pkl', 'rb')\n",
    "data=pickle.load(file)\n",
    "print(data)\n",
    "#print(type(data))"
   ]
  },
  {
   "cell_type": "markdown",
   "metadata": {},
   "source": [
    "<font size=4>\n",
    "<font color=blue>\n",
    "(2) Json\n",
    "<br>\n",
    "<font color=k>\n",
    "1) Definition\n",
    "- It works like pickle but does not support as broad a range of Python object types as pickle\n",
    "- It is programming language neutral"
   ]
  },
  {
   "cell_type": "code",
   "execution_count": null,
   "metadata": {
    "collapsed": true
   },
   "outputs": [],
   "source": [
    "# Example\n",
    "import json"
   ]
  },
  {
   "cell_type": "code",
   "execution_count": null,
   "metadata": {
    "collapsed": true
   },
   "outputs": [],
   "source": [
    "# data\n",
    "name = dict(first='Bob', last='Smith')\n",
    "rec = dict(name=name, job=['dev', 'mgr'], age=40.5)"
   ]
  },
  {
   "cell_type": "code",
   "execution_count": null,
   "metadata": {
    "collapsed": true
   },
   "outputs": [],
   "source": [
    "print(rec)"
   ]
  },
  {
   "cell_type": "code",
   "execution_count": null,
   "metadata": {
    "collapsed": true
   },
   "outputs": [],
   "source": [
    "# call json\n",
    "json.dump(rec, fp=open('test\\json.txt', 'w'), indent=4)"
   ]
  },
  {
   "cell_type": "code",
   "execution_count": null,
   "metadata": {
    "collapsed": true
   },
   "outputs": [],
   "source": [
    "# load json data\n",
    "p=json.load(open('test\\json.txt'))"
   ]
  },
  {
   "cell_type": "code",
   "execution_count": null,
   "metadata": {
    "collapsed": true
   },
   "outputs": [],
   "source": [
    "print(p)\n",
    "#print(type(p))"
   ]
  },
  {
   "cell_type": "markdown",
   "metadata": {},
   "source": [
    "<font size=4>\n",
    "<font color=blue>\n",
    "(3) File context managers"
   ]
  },
  {
   "cell_type": "code",
   "execution_count": null,
   "metadata": {
    "collapsed": true
   },
   "outputs": [],
   "source": [
    "# Example\n",
    "data=[] # create a empty list\n",
    "with open(r'test\\myfile.txt') as myfile: # open the object \n",
    "    for raw in myfile: # iterate myfile\n",
    "        data.append(raw) # store each line in data\n"
   ]
  },
  {
   "cell_type": "code",
   "execution_count": null,
   "metadata": {
    "collapsed": true
   },
   "outputs": [],
   "source": [
    "print(data)"
   ]
  },
  {
   "cell_type": "code",
   "execution_count": null,
   "metadata": {
    "collapsed": true
   },
   "outputs": [],
   "source": [
    "# Do the same as above\n",
    "data=[]\n",
    "myfile=open(r'test\\myfile.txt')\n",
    "try:\n",
    "    for line in myfile:\n",
    "        data.append(line)\n",
    "finally:\n",
    "    myfile.close()"
   ]
  },
  {
   "cell_type": "code",
   "execution_count": null,
   "metadata": {
    "collapsed": true
   },
   "outputs": [],
   "source": [
    "print(data)"
   ]
  }
 ],
 "metadata": {
  "kernelspec": {
   "display_name": "Python 3",
   "language": "python",
   "name": "python3"
  },
  "language_info": {
   "codemirror_mode": {
    "name": "ipython",
    "version": 3
   },
   "file_extension": ".py",
   "mimetype": "text/x-python",
   "name": "python",
   "nbconvert_exporter": "python",
   "pygments_lexer": "ipython3",
   "version": "3.6.1"
  }
 },
 "nbformat": 4,
 "nbformat_minor": 2
}
